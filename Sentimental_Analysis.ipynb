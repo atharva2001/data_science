{
 "cells": [
  {
   "cell_type": "markdown",
   "id": "e0784c5f",
   "metadata": {},
   "source": [
    "# IMPORTING MODULES"
   ]
  },
  {
   "cell_type": "code",
   "execution_count": 1,
   "id": "de2d2ab2",
   "metadata": {},
   "outputs": [],
   "source": [
    "from textblob import TextBlob\n",
    "import numpy as np\n",
    "import pandas as pd\n",
    "import tweepy\n",
    "from nltk.sentiment.vader import SentimentIntensityAnalyzer\n",
    "import math as m\n",
    "# import nltk\n",
    "# nltk.download('vader_lexicon')"
   ]
  },
  {
   "cell_type": "markdown",
   "id": "e3cab636",
   "metadata": {},
   "source": [
    "# AUTHENTICATION"
   ]
  },
  {
   "cell_type": "code",
   "execution_count": 2,
   "id": "68bdfb8c",
   "metadata": {},
   "outputs": [],
   "source": [
    "consumerKey = \"Your Consumer Key\"\n",
    "consumerSecret = \"Your Consumer Secret\"\n",
    "accessToken = \"Your Access Token\"\n",
    "accessTokenSecret = \"Your Access token Secret\"\n",
    "auth = tweepy.OAuthHandler(consumerKey, consumerSecret)\n",
    "auth.set_access_token(accessToken, accessTokenSecret)\n",
    "api = tweepy.API(auth,wait_on_rate_limit=True)"
   ]
  },
  {
   "cell_type": "markdown",
   "id": "72e9dc8e",
   "metadata": {},
   "source": [
    "# TAKING INPUT AS KEYWORD"
   ]
  },
  {
   "cell_type": "code",
   "execution_count": 3,
   "id": "f280881c",
   "metadata": {},
   "outputs": [
    {
     "name": "stdout",
     "output_type": "stream",
     "text": [
      "Please enter keyword or hashtag to search:russia\n",
      "Please enter how many tweets to analyze: 100\n"
     ]
    }
   ],
   "source": [
    "keyword = input('Please enter keyword or hashtag to search:')\n",
    "noOfTweet = int(input ('Please enter how many tweets to analyze: '))"
   ]
  },
  {
   "cell_type": "code",
   "execution_count": 4,
   "id": "1bbdeecb",
   "metadata": {},
   "outputs": [],
   "source": [
    "tweets = tweepy.Cursor(api.search_tweets, q=keyword).items(noOfTweet)\n",
    "positive = 0\n",
    "negative = 0\n",
    "neutral = 0\n",
    "polarity = 0\n",
    "tweet_list = []\n",
    "neutral_list = []\n",
    "negative_list = []\n",
    "positive_list = []"
   ]
  },
  {
   "cell_type": "markdown",
   "id": "b643f4fa",
   "metadata": {},
   "source": [
    "# CALCULATING PERCENT OF POSITIVE NEGATIVE TWEETS"
   ]
  },
  {
   "cell_type": "code",
   "execution_count": 5,
   "id": "7eacbbbe",
   "metadata": {},
   "outputs": [],
   "source": [
    "def percentage(val, no):\n",
    "    return (val / no) * 100\n",
    "\n",
    "for tweet in tweets:\n",
    "    tweet_list.append(tweet.text)\n",
    "    analysis = TextBlob(tweet.text)\n",
    "    score = SentimentIntensityAnalyzer().polarity_scores(tweet.text)\n",
    "    neg = score['neg']\n",
    "    neu = score['neu']\n",
    "    pos = score['pos']\n",
    "    comp = score['compound']\n",
    "    polarity += analysis.sentiment.polarity\n",
    "    \n",
    "    if  neg > pos:\n",
    "        negative_list.append(tweet.text)\n",
    "        negative += 1\n",
    "\n",
    "    elif pos > neg:\n",
    "        positive_list.append(tweet.text)\n",
    "        positive += 1\n",
    "\n",
    "    elif pos == neg:\n",
    "        neutral_list.append(tweet.text)\n",
    "        neutral += 1\n",
    "\n",
    "positive = percentage(positive, noOfTweet)\n",
    "negative = percentage(negative, noOfTweet)\n",
    "neutral = percentage(neutral, noOfTweet)\n",
    "polarity = percentage(polarity, noOfTweet)\n",
    "positive = format(positive, '.1f')\n",
    "negative = format(negative, '.1f')\n",
    "neutral = format(neutral, '.1f')"
   ]
  },
  {
   "cell_type": "code",
   "execution_count": 6,
   "id": "1b684d3b",
   "metadata": {},
   "outputs": [
    {
     "name": "stdout",
     "output_type": "stream",
     "text": [
      "total number: 100\n",
      "positive number:  17\n",
      "negative number:  47\n",
      "neutral number:  36\n"
     ]
    }
   ],
   "source": [
    "tweet_list = pd.DataFrame(tweet_list)\n",
    "neutral_list = pd.DataFrame(neutral_list)\n",
    "negative_list = pd.DataFrame(negative_list)\n",
    "positive_list = pd.DataFrame(positive_list)\n",
    "print('total number:' ,len(tweet_list))\n",
    "print('positive number: ',len(positive_list))\n",
    "print('negative number: ', len(negative_list))\n",
    "print('neutral number: ',len(neutral_list))"
   ]
  },
  {
   "cell_type": "markdown",
   "id": "797b08e1",
   "metadata": {},
   "source": [
    "# DISPLAYING TWEETS FETCHED"
   ]
  },
  {
   "cell_type": "code",
   "execution_count": 7,
   "id": "c734f48b",
   "metadata": {},
   "outputs": [
    {
     "data": {
      "text/html": [
       "<div>\n",
       "<style scoped>\n",
       "    .dataframe tbody tr th:only-of-type {\n",
       "        vertical-align: middle;\n",
       "    }\n",
       "\n",
       "    .dataframe tbody tr th {\n",
       "        vertical-align: top;\n",
       "    }\n",
       "\n",
       "    .dataframe thead th {\n",
       "        text-align: right;\n",
       "    }\n",
       "</style>\n",
       "<table border=\"1\" class=\"dataframe\">\n",
       "  <thead>\n",
       "    <tr style=\"text-align: right;\">\n",
       "      <th></th>\n",
       "      <th>0</th>\n",
       "    </tr>\n",
       "  </thead>\n",
       "  <tbody>\n",
       "    <tr>\n",
       "      <th>0</th>\n",
       "      <td>RT @MinPres: 📞: In a call with @ZelenskyyUa th...</td>\n",
       "    </tr>\n",
       "    <tr>\n",
       "      <th>1</th>\n",
       "      <td>RT @Independent: Ukraine in ‘perilous’ positio...</td>\n",
       "    </tr>\n",
       "    <tr>\n",
       "      <th>2</th>\n",
       "      <td>RT @lapatina_: \"Genocide is unfolding before o...</td>\n",
       "    </tr>\n",
       "    <tr>\n",
       "      <th>3</th>\n",
       "      <td>RT @mail_american: Durham says 5 witnesses con...</td>\n",
       "    </tr>\n",
       "    <tr>\n",
       "      <th>4</th>\n",
       "      <td>@Kunskaparen1 @mfa_russia Rysstroll!</td>\n",
       "    </tr>\n",
       "    <tr>\n",
       "      <th>...</th>\n",
       "      <td>...</td>\n",
       "    </tr>\n",
       "    <tr>\n",
       "      <th>95</th>\n",
       "      <td>Andy Vermaut shares:Lithuania bans using lette...</td>\n",
       "    </tr>\n",
       "    <tr>\n",
       "      <th>96</th>\n",
       "      <td>@thedailybeast @djrothkopf We killed a million...</td>\n",
       "    </tr>\n",
       "    <tr>\n",
       "      <th>97</th>\n",
       "      <td>RT @Susystarfield: I wonder what Zelensky thin...</td>\n",
       "    </tr>\n",
       "    <tr>\n",
       "      <th>98</th>\n",
       "      <td>RT @gloefflmann: Germany’s refusal to send hea...</td>\n",
       "    </tr>\n",
       "    <tr>\n",
       "      <th>99</th>\n",
       "      <td>RT @EulerID: @EliotACohen @McFaul Ukraine has ...</td>\n",
       "    </tr>\n",
       "  </tbody>\n",
       "</table>\n",
       "<p>100 rows × 1 columns</p>\n",
       "</div>"
      ],
      "text/plain": [
       "                                                    0\n",
       "0   RT @MinPres: 📞: In a call with @ZelenskyyUa th...\n",
       "1   RT @Independent: Ukraine in ‘perilous’ positio...\n",
       "2   RT @lapatina_: \"Genocide is unfolding before o...\n",
       "3   RT @mail_american: Durham says 5 witnesses con...\n",
       "4                @Kunskaparen1 @mfa_russia Rysstroll!\n",
       "..                                                ...\n",
       "95  Andy Vermaut shares:Lithuania bans using lette...\n",
       "96  @thedailybeast @djrothkopf We killed a million...\n",
       "97  RT @Susystarfield: I wonder what Zelensky thin...\n",
       "98  RT @gloefflmann: Germany’s refusal to send hea...\n",
       "99  RT @EulerID: @EliotACohen @McFaul Ukraine has ...\n",
       "\n",
       "[100 rows x 1 columns]"
      ]
     },
     "execution_count": 7,
     "metadata": {},
     "output_type": "execute_result"
    }
   ],
   "source": [
    "tweet_list"
   ]
  }
 ],
 "metadata": {
  "kernelspec": {
   "display_name": "Python 3 (ipykernel)",
   "language": "python",
   "name": "python3"
  },
  "language_info": {
   "codemirror_mode": {
    "name": "ipython",
    "version": 3
   },
   "file_extension": ".py",
   "mimetype": "text/x-python",
   "name": "python",
   "nbconvert_exporter": "python",
   "pygments_lexer": "ipython3",
   "version": "3.10.4"
  }
 },
 "nbformat": 4,
 "nbformat_minor": 5
}
