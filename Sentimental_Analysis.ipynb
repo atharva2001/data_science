{
 "cells": [
  {
   "cell_type": "markdown",
   "id": "e0784c5f",
   "metadata": {},
   "source": [
    "# IMPORTING MODULES"
   ]
  },
  {
   "cell_type": "code",
   "execution_count": 6,
   "id": "de2d2ab2",
   "metadata": {},
   "outputs": [],
   "source": [
    "from textblob import TextBlob\n",
    "import numpy as np\n",
    "import pandas as pd\n",
    "import tweepy\n",
    "from nltk.sentiment.vader import SentimentIntensityAnalyzer\n",
    "import math as m\n",
    "# import nltk\n",
    "# nltk.download('vader_lexicon')"
   ]
  },
  {
   "cell_type": "markdown",
   "id": "e3cab636",
   "metadata": {},
   "source": [
    "# AUTHENTICATION"
   ]
  },
  {
   "cell_type": "code",
   "execution_count": 7,
   "id": "68bdfb8c",
   "metadata": {},
   "outputs": [],
   "source": [
    "consumerKey = \"Iod2z0NMZYfZ2YHip3M1OVEMJ\"\n",
    "consumerSecret = \"j81qldE6yNSSMHHVlK47D6w0b6velvPPZdMN1rEq2fkSUCPw1q\"\n",
    "accessToken = \"1247370770264641536-mN4doRgbOwmE1l4vSBrYkEOi56M0LW\"\n",
    "accessTokenSecret = \"zXsbJTCDZV8swXi3G8Os2PSXXB0ACSILCSkTuaLH1Van7\"\n",
    "auth = tweepy.OAuthHandler(consumerKey, consumerSecret)\n",
    "auth.set_access_token(accessToken, accessTokenSecret)\n",
    "api = tweepy.API(auth,wait_on_rate_limit=True)"
   ]
  },
  {
   "cell_type": "markdown",
   "id": "72e9dc8e",
   "metadata": {},
   "source": [
    "# TAKING INPUT AS KEYWORD"
   ]
  },
  {
   "cell_type": "code",
   "execution_count": 39,
   "id": "f280881c",
   "metadata": {},
   "outputs": [
    {
     "name": "stdout",
     "output_type": "stream",
     "text": [
      "Please enter keyword or hashtag to search:war\n",
      "Please enter how many tweets to analyze: 100\n"
     ]
    }
   ],
   "source": [
    "keyword = input('Please enter keyword or hashtag to search:')\n",
    "noOfTweet = int(input ('Please enter how many tweets to analyze: '))"
   ]
  },
  {
   "cell_type": "code",
   "execution_count": 40,
   "id": "1bbdeecb",
   "metadata": {},
   "outputs": [],
   "source": [
    "tweets = tweepy.Cursor(api.search_tweets, q=keyword).items(noOfTweet)\n",
    "positive = 0\n",
    "negative = 0\n",
    "neutral = 0\n",
    "polarity = 0\n",
    "tweet_list = []\n",
    "neutral_list = []\n",
    "negative_list = []\n",
    "positive_list = []"
   ]
  },
  {
   "cell_type": "markdown",
   "id": "b643f4fa",
   "metadata": {},
   "source": [
    "# CALCULATING PERCENT OF POSITIVE NEGATIVE TWEETS"
   ]
  },
  {
   "cell_type": "code",
   "execution_count": 41,
   "id": "7eacbbbe",
   "metadata": {},
   "outputs": [
    {
     "name": "stdout",
     "output_type": "stream",
     "text": [
      "0.0 0.358 0\n"
     ]
    }
   ],
   "source": [
    "def percentage(val, no):\n",
    "    return (val / no) * 100\n",
    "\n",
    "for tweet in tweets:\n",
    "    tweet_list.append(tweet.text)\n",
    "    analysis = TextBlob(tweet.text)\n",
    "    score = SentimentIntensityAnalyzer().polarity_scores(tweet.text)\n",
    "    neg = score['neg']\n",
    "    neu = score['neu']\n",
    "    pos = score['pos']\n",
    "    comp = score['compound']\n",
    "    polarity += analysis.sentiment.polarity\n",
    "    \n",
    "if  neg > pos:\n",
    "    negative_list.append(tweet.text)\n",
    "    negative += 1\n",
    "\n",
    "elif pos > neg:\n",
    "    positive_list.append(tweet.text)\n",
    "    positive += 1\n",
    "\n",
    "elif pos == neg:\n",
    "    neutral_list.append(tweet.text)\n",
    "    neutral += 1\n",
    "    \n",
    "positive = percentage(positive, noOfTweet)\n",
    "negative = percentage(negative, noOfTweet)\n",
    "neutral = percentage(neutral, noOfTweet)\n",
    "polarity = percentage(polarity, noOfTweet)\n",
    "positive = format(positive, '.1f')\n",
    "negative = format(negative, '.1f')\n",
    "neutral = format(neutral, '.1f')"
   ]
  },
  {
   "cell_type": "code",
   "execution_count": 42,
   "id": "1b684d3b",
   "metadata": {},
   "outputs": [
    {
     "name": "stdout",
     "output_type": "stream",
     "text": [
      "total number: 100\n",
      "positive number:  0\n",
      "negative number:  1\n",
      "neutral number:  0\n"
     ]
    }
   ],
   "source": [
    "tweet_list = pd.DataFrame(tweet_list)\n",
    "neutral_list = pd.DataFrame(neutral_list)\n",
    "negative_list = pd.DataFrame(negative_list)\n",
    "positive_list = pd.DataFrame(positive_list)\n",
    "print('total number:' ,len(tweet_list))\n",
    "print('positive number: ',len(positive_list))\n",
    "print('negative number: ', len(negative_list))\n",
    "print('neutral number: ',len(neutral_list))"
   ]
  },
  {
   "cell_type": "markdown",
   "id": "797b08e1",
   "metadata": {},
   "source": [
    "# DISPLAYING TWEETS FETCHED"
   ]
  },
  {
   "cell_type": "code",
   "execution_count": null,
   "id": "c734f48b",
   "metadata": {},
   "outputs": [],
   "source": [
    "tweet_list"
   ]
  }
 ],
 "metadata": {
  "kernelspec": {
   "display_name": "Python 3 (ipykernel)",
   "language": "python",
   "name": "python3"
  },
  "language_info": {
   "codemirror_mode": {
    "name": "ipython",
    "version": 3
   },
   "file_extension": ".py",
   "mimetype": "text/x-python",
   "name": "python",
   "nbconvert_exporter": "python",
   "pygments_lexer": "ipython3",
   "version": "3.10.4"
  }
 },
 "nbformat": 4,
 "nbformat_minor": 5
}
